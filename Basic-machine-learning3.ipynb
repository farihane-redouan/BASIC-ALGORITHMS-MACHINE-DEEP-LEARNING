{
  "nbformat": 4,
  "nbformat_minor": 0,
  "metadata": {
    "colab": {
      "name": "TP3.ipynb",
      "provenance": [],
      "authorship_tag": "ABX9TyOM8laN4Bo2F/H2vuuRH0fa",
      "include_colab_link": true
    },
    "kernelspec": {
      "name": "python3",
      "display_name": "Python 3"
    }
  },
  "cells": [
    {
      "cell_type": "markdown",
      "metadata": {
        "id": "view-in-github",
        "colab_type": "text"
      },
      "source": [
        "<a href=\"https://colab.research.google.com/github/farihane-redouan/BASIC-ALGORITHMS-MACHINE-DEEP-LEARNING/blob/main/Basic-machine-learning3.ipynb\" target=\"_parent\"><img src=\"https://colab.research.google.com/assets/colab-badge.svg\" alt=\"Open In Colab\"/></a>"
      ]
    },
    {
      "cell_type": "code",
      "metadata": {
        "id": "gZAwl7LIgoJR"
      },
      "source": [
        "import numpy as np\n",
        "import matplotlib.pyplot as plt \n",
        "from sklearn.datasets import make_regression"
      ],
      "execution_count": 19,
      "outputs": []
    },
    {
      "cell_type": "markdown",
      "metadata": {
        "id": "hGTYKOFIQB6p"
      },
      "source": [
        "## **1. Dataset**"
      ]
    },
    {
      "cell_type": "code",
      "metadata": {
        "id": "3ITkz4vZg5sD",
        "outputId": "a195b16c-508c-4248-a959-bc29ae406ef7",
        "colab": {
          "base_uri": "https://localhost:8080/"
        }
      },
      "source": [
        "n=100\n",
        "x=np.linspace(0,10,n).reshape(n,1) #géniration d'un liste de nombre de taille 100 comprise entre 0 et 10 \n",
        "y=x**2+x*np.random.randn(n,1)\n",
        "print(np.shape(x),np.shape(y))"
      ],
      "execution_count": 20,
      "outputs": [
        {
          "output_type": "stream",
          "text": [
            "(100, 1) (100, 1)\n"
          ],
          "name": "stdout"
        }
      ]
    },
    {
      "cell_type": "markdown",
      "metadata": {
        "id": "navnxni2QadU"
      },
      "source": [
        "## **2. TrainSet/TestSet**"
      ]
    },
    {
      "cell_type": "code",
      "metadata": {
        "id": "qUASu4if22oK",
        "outputId": "51f13282-6d7a-4845-e5f0-b7fd205efe6c",
        "colab": {
          "base_uri": "https://localhost:8080/"
        }
      },
      "source": [
        "from sklearn.model_selection import train_test_split \n",
        "x_train, x_test, y_train, y_test=train_test_split(x,y,test_size=0.3)\n",
        "print(np.shape(x_train))"
      ],
      "execution_count": 21,
      "outputs": [
        {
          "output_type": "stream",
          "text": [
            "(70, 1)\n"
          ],
          "name": "stdout"
        }
      ]
    },
    {
      "cell_type": "code",
      "metadata": {
        "id": "Lbjx3n-phLJu",
        "outputId": "a499ddaa-8e07-47d6-a4b9-576fee2ade82",
        "colab": {
          "base_uri": "https://localhost:8080/",
          "height": 282
        }
      },
      "source": [
        "plt.scatter(x_train,y_train, c='r')\n",
        "plt.scatter(x_test,y_test, c='b')"
      ],
      "execution_count": 44,
      "outputs": [
        {
          "output_type": "execute_result",
          "data": {
            "text/plain": [
              "<matplotlib.collections.PathCollection at 0x7f05a8fa30b8>"
            ]
          },
          "metadata": {
            "tags": []
          },
          "execution_count": 44
        },
        {
          "output_type": "display_data",
          "data": {
            "image/png": "[encoded data removed]",
            "text/plain": [
              "<Figure size 432x288 with 1 Axes>"
            ]
          },
          "metadata": {
            "tags": [],
            "needs_background": "light"
          }
        }
      ]
    },
    {
      "cell_type": "code",
      "metadata": {
        "id": "6S8a5fyGkEzC",
        "outputId": "9b6ff1cf-34ac-4b54-8050-b28b8651d13c",
        "colab": {
          "base_uri": "https://localhost:8080/"
        }
      },
      "source": [
        "X=np.hstack((x_train,np.ones((np.shape(x_train)[0],1))))\n",
        "X=np.hstack(((x_train)**2,X))\n",
        "X=np.hstack(((x_train)**3,X))\n",
        "print(X.shape)"
      ],
      "execution_count": 45,
      "outputs": [
        {
          "output_type": "stream",
          "text": [
            "(70, 4)\n"
          ],
          "name": "stdout"
        }
      ]
    },
    {
      "cell_type": "code",
      "metadata": {
        "id": "eLQKS29kmdXK",
        "outputId": "4e83be57-2cdc-4350-bfbb-be0b178e3ede",
        "colab": {
          "base_uri": "https://localhost:8080/"
        }
      },
      "source": [
        "np.random.seed(0)\n",
        "teta =np.random.randn(4,1)\n",
        "teta"
      ],
      "execution_count": 46,
      "outputs": [
        {
          "output_type": "execute_result",
          "data": {
            "text/plain": [
              "array([[1.76405235],\n",
              "       [0.40015721],\n",
              "       [0.97873798],\n",
              "       [2.2408932 ]])"
            ]
          },
          "metadata": {
            "tags": []
          },
          "execution_count": 46
        }
      ]
    },
    {
      "cell_type": "markdown",
      "metadata": {
        "id": "9vqu3zNzQ1Db"
      },
      "source": [
        "## **3. Modele Linéaire**"
      ]
    },
    {
      "cell_type": "code",
      "metadata": {
        "id": "HUzQbaInmktE"
      },
      "source": [
        "def model(data,teta):\n",
        "  return data.dot(teta)"
      ],
      "execution_count": 47,
      "outputs": []
    },
    {
      "cell_type": "code",
      "metadata": {
        "id": "W4v4_iCtmqvA",
        "outputId": "ae6f557e-ff16-4704-9cbf-3245c99a87c5",
        "colab": {
          "base_uri": "https://localhost:8080/",
          "height": 282
        }
      },
      "source": [
        "plt.scatter(x_train,y_train)\n",
        "plt.scatter(x_train,model(X,teta),c='r')"
      ],
      "execution_count": 48,
      "outputs": [
        {
          "output_type": "execute_result",
          "data": {
            "text/plain": [
              "<matplotlib.collections.PathCollection at 0x7f05a8f5fe80>"
            ]
          },
          "metadata": {
            "tags": []
          },
          "execution_count": 48
        },
        {
          "output_type": "display_data",
          "data": {
            "image/png": "[encoded data removed]",
            "text/plain": [
              "<Figure size 432x288 with 1 Axes>"
            ]
          },
          "metadata": {
            "tags": [],
            "needs_background": "light"
          }
        }
      ]
    },
    {
      "cell_type": "markdown",
      "metadata": {
        "id": "Lg2jhdhERB1-"
      },
      "source": [
        "## **4. Fonction Cout : Erreur Quadratique moyenne**"
      ]
    },
    {
      "cell_type": "code",
      "metadata": {
        "id": "ekQod0amm0-H"
      },
      "source": [
        "def Fonction_Cout(x,teta,y):\n",
        "  m=len(y)\n",
        "  return (1/2*m)*np.sum(((model(x,teta))-y)**2)"
      ],
      "execution_count": 49,
      "outputs": []
    },
    {
      "cell_type": "code",
      "metadata": {
        "id": "Gd-fszexnJjn"
      },
      "source": [
        "def Gradients(x,teta,y):\n",
        "  m=len(y)\n",
        "  return (1/m)*(x.T).dot((model(x,teta))-y)"
      ],
      "execution_count": 30,
      "outputs": []
    },
    {
      "cell_type": "markdown",
      "metadata": {
        "id": "sogYkR3_RO1a"
      },
      "source": [
        "## **6. Gradients et Descente de Gradient**"
      ]
    },
    {
      "cell_type": "code",
      "metadata": {
        "id": "hLxanPNOnPJC"
      },
      "source": [
        "def Descente_Gradient(x,teta,y,rate,nb_iteration):\n",
        "  cost_history=np.zeros(nb_iteration)  # création d'un tableau de stockage pour enregistrer l'évolution du Cout du modele\n",
        "  for i in range(0,nb_iteration):\n",
        "    teta=teta-rate*Gradients(x,teta,y) # mise a jour du parametre theta (formule du gradient descent)\n",
        "    cost_history[i]=Fonction_Cout(x,teta,y) # on enregistre la valeur du Cout au tour i dans cost_history[i]\n",
        "  return teta,cost_history\n"
      ],
      "execution_count": 50,
      "outputs": []
    },
    {
      "cell_type": "markdown",
      "metadata": {
        "id": "5s5Z278fRnFe"
      },
      "source": [
        "## **7. Phase d'entrainement**"
      ]
    },
    {
      "cell_type": "code",
      "metadata": {
        "id": "2Bv0CbXRnTLm",
        "outputId": "856bd8fc-40fa-4332-c60e-d295ea7d245e",
        "colab": {
          "base_uri": "https://localhost:8080/",
          "height": 282
        }
      },
      "source": [
        "nb_iteration=1000\n",
        "learning_rate=0.000001\n",
        "teta_final,cost_history=Descente_Gradient(X,teta,y_train,learning_rate,nb_iteration)\n",
        "predection=model(X,teta_final)\n",
        "plt.scatter(x_train,y_train)\n",
        "plt.scatter(x_train,predection,c='r')"
      ],
      "execution_count": 51,
      "outputs": [
        {
          "output_type": "execute_result",
          "data": {
            "text/plain": [
              "<matplotlib.collections.PathCollection at 0x7f05a8eebef0>"
            ]
          },
          "metadata": {
            "tags": []
          },
          "execution_count": 51
        },
        {
          "output_type": "display_data",
          "data": {
            "image/png": "[encoded data removed]",
            "text/plain": [
              "<Figure size 432x288 with 1 Axes>"
            ]
          },
          "metadata": {
            "tags": [],
            "needs_background": "light"
          }
        }
      ]
    },
    {
      "cell_type": "code",
      "metadata": {
        "id": "NHAx153WncTc"
      },
      "source": [
        "def cof_determination(y,pred):\n",
        "  a=((y-pred)**2).sum()\n",
        "  b=((y-y.mean())**2).sum()\n",
        "  return 1-a/b"
      ],
      "execution_count": 52,
      "outputs": []
    },
    {
      "cell_type": "markdown",
      "metadata": {
        "id": "xYHXaEj9SSfC"
      },
      "source": [
        "## **8.Evaluation par l'ensmble d'entrainement**"
      ]
    },
    {
      "cell_type": "code",
      "metadata": {
        "id": "CUCN7LyNobZg",
        "outputId": "b5bf8030-2b1e-43f3-b2f9-2cd86e4aebed",
        "colab": {
          "base_uri": "https://localhost:8080/"
        }
      },
      "source": [
        "cof_determination(y_train,predection) #cof_determination par rapport à l'ensmble d'entrainement"
      ],
      "execution_count": 58,
      "outputs": [
        {
          "output_type": "execute_result",
          "data": {
            "text/plain": [
              "0.968162670853478"
            ]
          },
          "metadata": {
            "tags": []
          },
          "execution_count": 58
        }
      ]
    },
    {
      "cell_type": "markdown",
      "metadata": {
        "id": "kQRKu8JHSpHz"
      },
      "source": [
        "## **9.Evaluation par l'ensmble Test**"
      ]
    },
    {
      "cell_type": "code",
      "metadata": {
        "id": "-QTG7GQioeiT",
        "outputId": "eda828b1-d201-4f4f-c450-0d6fa7868904",
        "colab": {
          "base_uri": "https://localhost:8080/"
        }
      },
      "source": [
        "XT=np.hstack((x_test,np.ones((np.shape(x_test)[0],1))))\n",
        "XT=np.hstack(((x_test)**2,XT))\n",
        "XT=np.hstack(((x_test)**3,XT))\n",
        "print(XT.shape)"
      ],
      "execution_count": 59,
      "outputs": [
        {
          "output_type": "stream",
          "text": [
            "(30, 4)\n"
          ],
          "name": "stdout"
        }
      ]
    },
    {
      "cell_type": "code",
      "metadata": {
        "id": "L5B60WzyLcNQ"
      },
      "source": [
        "predection2=model(XT,teta_final)"
      ],
      "execution_count": 60,
      "outputs": []
    },
    {
      "cell_type": "code",
      "metadata": {
        "id": "kCIXFFVZL0bx",
        "outputId": "0de6b156-9636-422c-c4f3-f3f3eb45ff5e",
        "colab": {
          "base_uri": "https://localhost:8080/"
        }
      },
      "source": [
        "cof_determination(y_test,predection2) #cof_determination par rapport à l'ensmble Test --> ca qu'il faut faire normalement !!!! si non Nous tomberons dans le problème sur apprentissage"
      ],
      "execution_count": 62,
      "outputs": [
        {
          "output_type": "execute_result",
          "data": {
            "text/plain": [
              "0.9623948069726403"
            ]
          },
          "metadata": {
            "tags": []
          },
          "execution_count": 62
        }
      ]
    },
    {
      "cell_type": "code",
      "metadata": {
        "id": "s6AvZRSpL9FD"
      },
      "source": [
        ""
      ],
      "execution_count": null,
      "outputs": []
    }
  ]
}