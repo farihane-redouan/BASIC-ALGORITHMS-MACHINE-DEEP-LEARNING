{
  "nbformat": 4,
  "nbformat_minor": 0,
  "metadata": {
    "colab": {
      "name": "TP2.ipynb",
      "provenance": [],
      "collapsed_sections": [],
      "authorship_tag": "ABX9TyM16wgQZ0k0AWN3N0I6JibZ",
      "include_colab_link": true
    },
    "kernelspec": {
      "name": "python3",
      "display_name": "Python 3"
    }
  },
  "cells": [
    {
      "cell_type": "markdown",
      "metadata": {
        "id": "view-in-github",
        "colab_type": "text"
      },
      "source": [
        "<a href=\"https://colab.research.google.com/github/farihane-redouan/BASIC-ALGORITHMS-MACHINE-DEEP-LEARNING/blob/main/Basic-machine-learning2.ipynb\" target=\"_parent\"><img src=\"https://colab.research.google.com/assets/colab-badge.svg\" alt=\"Open In Colab\"/></a>"
      ]
    },
    {
      "cell_type": "code",
      "metadata": {
        "id": "pDHqIwE0cBBg"
      },
      "source": [
        "import numpy as np\n",
        "import matplotlib.pyplot as plt \n",
        "from sklearn.datasets import make_regression"
      ],
      "execution_count": 1,
      "outputs": []
    },
    {
      "cell_type": "markdown",
      "metadata": {
        "id": "lT_f3KawjJoX"
      },
      "source": [
        "## **1.Dataset**"
      ]
    },
    {
      "cell_type": "code",
      "metadata": {
        "id": "8uys2fJli9A7",
        "outputId": "415e156c-1d16-485a-a1c7-a9422ecd88be",
        "colab": {
          "base_uri": "https://localhost:8080/"
        }
      },
      "source": [
        "x,y=make_regression(n_samples=100,n_features=2,noise=10)\n",
        "y=y.reshape(100,1)\n",
        "print(np.shape(x))\n",
        "print(np.shape(y))"
      ],
      "execution_count": 6,
      "outputs": [
        {
          "output_type": "stream",
          "text": [
            "(100, 2)\n",
            "(100, 1)\n"
          ],
          "name": "stdout"
        }
      ]
    },
    {
      "cell_type": "code",
      "metadata": {
        "id": "NefQ630LjZ1Z",
        "outputId": "a3998189-939e-4265-f765-91f9d4f45843",
        "colab": {
          "base_uri": "https://localhost:8080/",
          "height": 282
        }
      },
      "source": [
        "plt.scatter(x[:,0],y)"
      ],
      "execution_count": 52,
      "outputs": [
        {
          "output_type": "execute_result",
          "data": {
            "text/plain": [
              "<matplotlib.collections.PathCollection at 0x7efe13f92470>"
            ]
          },
          "metadata": {
            "tags": []
          },
          "execution_count": 52
        },
        {
          "output_type": "display_data",
          "data": {
            "image/png": "[encoded data removed]",
            "text/plain": [
              "<Figure size 432x288 with 1 Axes>"
            ]
          },
          "metadata": {
            "tags": [],
            "needs_background": "light"
          }
        }
      ]
    },
    {
      "cell_type": "code",
      "metadata": {
        "id": "OovCWuz4kEKf",
        "outputId": "d8aaa147-2371-46ed-ad01-5caf1b51f3c6",
        "colab": {
          "base_uri": "https://localhost:8080/"
        }
      },
      "source": [
        "X=np.hstack((x,np.ones((np.shape(x)[0],1))))\n",
        "print(X.shape)\n"
      ],
      "execution_count": 53,
      "outputs": [
        {
          "output_type": "stream",
          "text": [
            "(100, 3)\n"
          ],
          "name": "stdout"
        }
      ]
    },
    {
      "cell_type": "code",
      "metadata": {
        "id": "nbnkqUXGlxE1",
        "outputId": "ae723f3a-cd46-4ee7-9b0e-0120ed4bdbaf",
        "colab": {
          "base_uri": "https://localhost:8080/"
        }
      },
      "source": [
        "np.random.seed(0)\n",
        "teta =np.random.randn(3,1)\n",
        "teta"
      ],
      "execution_count": 54,
      "outputs": [
        {
          "output_type": "execute_result",
          "data": {
            "text/plain": [
              "array([[1.76405235],\n",
              "       [0.40015721],\n",
              "       [0.97873798]])"
            ]
          },
          "metadata": {
            "tags": []
          },
          "execution_count": 54
        }
      ]
    },
    {
      "cell_type": "markdown",
      "metadata": {
        "id": "EqwIzmWxtAY0"
      },
      "source": [
        "## **2. Modele Polynomiale**"
      ]
    },
    {
      "cell_type": "code",
      "metadata": {
        "id": "ilfPFhFvpEk9"
      },
      "source": [
        "def model(data,teta):\n",
        "  return data.dot(teta)"
      ],
      "execution_count": 55,
      "outputs": []
    },
    {
      "cell_type": "code",
      "metadata": {
        "id": "gVF0ygogpIpk",
        "outputId": "eeb8f3cf-4111-479f-d7d4-b15eb734e1fb",
        "colab": {
          "base_uri": "https://localhost:8080/",
          "height": 282
        }
      },
      "source": [
        "x.shape\n",
        "plt.scatter(x[:,0],y)\n",
        "plt.scatter(x[:,0],model(X,teta), c='r')"
      ],
      "execution_count": 56,
      "outputs": [
        {
          "output_type": "execute_result",
          "data": {
            "text/plain": [
              "<matplotlib.collections.PathCollection at 0x7efe13f71550>"
            ]
          },
          "metadata": {
            "tags": []
          },
          "execution_count": 56
        },
        {
          "output_type": "display_data",
          "data": {
            "image/png": "[encoded data removed]",
            "text/plain": [
              "<Figure size 432x288 with 1 Axes>"
            ]
          },
          "metadata": {
            "tags": [],
            "needs_background": "light"
          }
        }
      ]
    },
    {
      "cell_type": "markdown",
      "metadata": {
        "id": "G1ZkIA3OtLGp"
      },
      "source": [
        "## **3. Fonction Cout : Erreur Quadratique moyenne**"
      ]
    },
    {
      "cell_type": "markdown",
      "metadata": {
        "id": "9o4P0U1HuE8G"
      },
      "source": [
        "On mesure les erreurs du modele sur le Dataset X, y en implémenter l'erreur quadratique moyenne, Mean Squared Error (MSE) .\n",
        "\n",
        "$ J(\\theta) = \\frac{1}{2m} \\sum (X.\\theta - y)^2 $\n",
        "\n",
        "Ensuite, on teste notre fonction, pour voir s'il n'y a pas de bug"
      ]
    },
    {
      "cell_type": "code",
      "metadata": {
        "id": "eCnyyZGopUSY"
      },
      "source": [
        "def Fonction_Cout(x,teta,y):\n",
        "  m=len(y)\n",
        "  return (1/2*m)*np.sum(((model(x,teta))-y)**2)"
      ],
      "execution_count": 57,
      "outputs": []
    },
    {
      "cell_type": "markdown",
      "metadata": {
        "id": "EYQp9WvlrUrU"
      },
      "source": [
        "## **4. Gradients et Descente de Gradient**"
      ]
    },
    {
      "cell_type": "markdown",
      "metadata": {
        "id": "uL4DU99LuPWf"
      },
      "source": [
        "On implémente la formule du gradient pour la MSE\n",
        "\n",
        "$\\frac{\\partial J(\\theta) }{\\partial \\theta} = \\frac{1}{m} X^T.(X.\\theta - y)$\n",
        "\n",
        "Ensuite on utilise cette fonction dans la descente de gradient:\n",
        "\n",
        "$\\theta = \\theta - \\alpha \\frac{\\partial J(\\theta) }{\\partial \\theta}$"
      ]
    },
    {
      "cell_type": "code",
      "metadata": {
        "id": "-1H_ovqrrPff"
      },
      "source": [
        "def Gradients(x,teta,y):\n",
        "  m=len(y)\n",
        "  return (1/m)*(x.T).dot((model(x,teta))-y)"
      ],
      "execution_count": 58,
      "outputs": []
    },
    {
      "cell_type": "code",
      "metadata": {
        "id": "S4pki2vXraHb"
      },
      "source": [
        "def Descente_Gradient(x,teta,y,rate,nb_iteration):\n",
        "  cost_history=np.zeros(nb_iteration)  # création d'un tableau de stockage pour enregistrer l'évolution du Cout du modele\n",
        "  for i in range(0,nb_iteration):\n",
        "    teta=teta-rate*Gradients(x,teta,y) # mise a jour du parametre theta (formule du gradient descent)\n",
        "    cost_history[i]=Fonction_Cout(x,teta,y) # on enregistre la valeur du Cout au tour i dans cost_history[i]\n",
        "  return teta,cost_history"
      ],
      "execution_count": 59,
      "outputs": []
    },
    {
      "cell_type": "markdown",
      "metadata": {
        "id": "0pzJZrCBrirS"
      },
      "source": [
        "## **5. Phase d'entrainement**"
      ]
    },
    {
      "cell_type": "markdown",
      "metadata": {
        "id": "PyiyXjRuuc9M"
      },
      "source": [
        "On définit un nombre d'itérations, ainsi qu'un pas d'apprentissage $\\alpha$.\n",
        "\n",
        "Une fois le modele entrainé, on observe les resultats par rapport a notre Dataset"
      ]
    },
    {
      "cell_type": "code",
      "metadata": {
        "id": "9vAeQHp8rdWV",
        "outputId": "26f556d7-ba71-4934-9c2e-518474281d9a",
        "colab": {
          "base_uri": "https://localhost:8080/",
          "height": 282
        }
      },
      "source": [
        "nb_iteration=1000\n",
        "learning_rate=0.01\n",
        "teta_final,cost_history=Descente_Gradient(X,teta,y,learning_rate,nb_iteration)\n",
        "predection=model(X,teta_final)\n",
        "plt.scatter(x[:,0],y)\n",
        "plt.scatter(x[:,0],predection,c='r')"
      ],
      "execution_count": 60,
      "outputs": [
        {
          "output_type": "execute_result",
          "data": {
            "text/plain": [
              "<matplotlib.collections.PathCollection at 0x7efe13ed05f8>"
            ]
          },
          "metadata": {
            "tags": []
          },
          "execution_count": 60
        },
        {
          "output_type": "display_data",
          "data": {
            "image/png": "[encoded data removed]",
            "text/plain": [
              "<Figure size 432x288 with 1 Axes>"
            ]
          },
          "metadata": {
            "tags": [],
            "needs_background": "light"
          }
        }
      ]
    },
    {
      "cell_type": "code",
      "metadata": {
        "id": "8BykVZQqwUlM",
        "outputId": "00591b00-2f66-4145-d48d-cb60dd1d315c",
        "colab": {
          "base_uri": "https://localhost:8080/",
          "height": 282
        }
      },
      "source": [
        "plt.scatter(x[:,1],y)\n",
        "plt.scatter(x[:,1],predection,c='r')"
      ],
      "execution_count": 63,
      "outputs": [
        {
          "output_type": "execute_result",
          "data": {
            "text/plain": [
              "<matplotlib.collections.PathCollection at 0x7efe13deb470>"
            ]
          },
          "metadata": {
            "tags": []
          },
          "execution_count": 63
        },
        {
          "output_type": "display_data",
          "data": {
            "image/png": "[encoded data removed]",
            "text/plain": [
              "<Figure size 432x288 with 1 Axes>"
            ]
          },
          "metadata": {
            "tags": [],
            "needs_background": "light"
          }
        }
      ]
    },
    {
      "cell_type": "markdown",
      "metadata": {
        "id": "C8_A-KbFukVj"
      },
      "source": [
        "## **6. Courbes d'apprentissage**"
      ]
    },
    {
      "cell_type": "markdown",
      "metadata": {
        "id": "j6kTNaQ6uqSJ"
      },
      "source": [
        "Pour vérifier si notre algorithme de Descente de gradient a bien fonctionné, on observe l'évolution de la fonction coût à travers le nombre d'itérations. On cherche à obtenir une courbe qui diminue a chaque itération jusqu'à stagner à un niveau minimal (proche de zéro). Si la courbe ne suit pas ce motif, alors le pas learning_rate $\\alpha$, est peut-être trop élevé, il faut prendre un pas plus petite."
      ]
    },
    {
      "cell_type": "code",
      "metadata": {
        "id": "aIKckPRlrpP6",
        "outputId": "bbc79113-352a-463f-9a92-c24dd8a338d1",
        "colab": {
          "base_uri": "https://localhost:8080/",
          "height": 293
        }
      },
      "source": [
        "plt.plot(range(nb_iteration),cost_history)"
      ],
      "execution_count": 61,
      "outputs": [
        {
          "output_type": "execute_result",
          "data": {
            "text/plain": [
              "[<matplotlib.lines.Line2D at 0x7efe13ea77f0>]"
            ]
          },
          "metadata": {
            "tags": []
          },
          "execution_count": 61
        },
        {
          "output_type": "display_data",
          "data": {
            "image/png": "[encoded data removed]",
            "text/plain": [
              "<Figure size 432x288 with 1 Axes>"
            ]
          },
          "metadata": {
            "tags": [],
            "needs_background": "light"
          }
        }
      ]
    },
    {
      "cell_type": "code",
      "metadata": {
        "id": "Ub2elJTDuwYh"
      },
      "source": [
        ""
      ],
      "execution_count": null,
      "outputs": []
    }
  ]
}