{
  "nbformat": 4,
  "nbformat_minor": 0,
  "metadata": {
    "colab": {
      "name": "Basic-machine-learning.ipynb",
      "provenance": [],
      "collapsed_sections": [],
      "authorship_tag": "ABX9TyMJc978MHjV30KPSZNhhPfK",
      "include_colab_link": true
    },
    "kernelspec": {
      "name": "python3",
      "display_name": "Python 3"
    }
  },
  "cells": [
    {
      "cell_type": "markdown",
      "metadata": {
        "id": "view-in-github",
        "colab_type": "text"
      },
      "source": [
        "<a href=\"https://colab.research.google.com/github/farihane-redouan/Basic-machine-learning/blob/main/Basic_machine_learning.ipynb\" target=\"_parent\"><img src=\"https://colab.research.google.com/assets/colab-badge.svg\" alt=\"Open In Colab\"/></a>"
      ]
    },
    {
      "cell_type": "markdown",
      "metadata": {
        "id": "0yk-0fd6lBS5"
      },
      "source": [
        ""
      ]
    },
    {
      "cell_type": "markdown",
      "metadata": {
        "id": "abOsrr4Gl0g8"
      },
      "source": [
        "# **1. CREATION DE MON PROPRE MODEL MACHINE LEARNING**"
      ]
    },
    {
      "cell_type": "code",
      "metadata": {
        "id": "CZBpSll2mFEK"
      },
      "source": [
        "import numpy as np\n",
        "import matplotlib.pyplot as plt\n",
        "from sklearn.datasets import make_regression"
      ],
      "execution_count": 248,
      "outputs": []
    },
    {
      "cell_type": "markdown",
      "metadata": {
        "id": "zyyDTkQMmJVG"
      },
      "source": [
        "##**1. Dataset**"
      ]
    },
    {
      "cell_type": "code",
      "metadata": {
        "id": "et3R6dbknTkU",
        "outputId": "0c6b9446-11de-4638-ab67-cf0c18bc5d0b",
        "colab": {
          "base_uri": "https://localhost:8080/",
          "height": 282
        }
      },
      "source": [
        "np.random.seed(0) # pour toujours reproduire le meme dataset\n",
        "x,y=make_regression(n_samples=100,n_features=1,noise=10)\n",
        "plt.scatter(x,y)"
      ],
      "execution_count": 249,
      "outputs": [
        {
          "output_type": "execute_result",
          "data": {
            "text/plain": [
              "<matplotlib.collections.PathCollection at 0x7f50c510f198>"
            ]
          },
          "metadata": {
            "tags": []
          },
          "execution_count": 249
        },
        {
          "output_type": "display_data",
          "data": {
            "image/png": "[encoded data removed]",
            "text/plain": [
              "<Figure size 432x288 with 1 Axes>"
            ]
          },
          "metadata": {
            "tags": [],
            "needs_background": "light"
          }
        }
      ]
    },
    {
      "cell_type": "markdown",
      "metadata": {
        "id": "dOkuYHhBsvjQ"
      },
      "source": [
        "Important: vérifier les dimensions de x et y. On remarque que y n'a pas les dimensions (100, 1). On corrige le probleme avec np.reshape"
      ]
    },
    {
      "cell_type": "code",
      "metadata": {
        "id": "r9JeW6Ebn6Q6",
        "outputId": "f26f6863-d3ff-4fca-dae9-7c5a659082a8",
        "colab": {
          "base_uri": "https://localhost:8080/",
          "height": 68
        }
      },
      "source": [
        "print(x.shape)\n",
        "print(y.shape)\n",
        "y=y.reshape(y.shape[0],1)\n",
        "print(y.shape)"
      ],
      "execution_count": 250,
      "outputs": [
        {
          "output_type": "stream",
          "text": [
            "(100, 1)\n",
            "(100,)\n",
            "(100, 1)\n"
          ],
          "name": "stdout"
        }
      ]
    },
    {
      "cell_type": "markdown",
      "metadata": {
        "id": "wgRvrT2isnnz"
      },
      "source": [
        "Création de la matrice X qui contient la colonne de Biais. Pour ca, on colle l'un contre l'autre le vecteur x et un vecteur 1 (avec np.ones) de dimension égale a celle de x"
      ]
    },
    {
      "cell_type": "code",
      "metadata": {
        "id": "Wv7qThvQqBoY",
        "outputId": "7939bca7-7d52-4f08-9d63-74132f185d38",
        "colab": {
          "base_uri": "https://localhost:8080/",
          "height": 34
        }
      },
      "source": [
        "X=np.hstack((x,np.ones(x.shape)))\n",
        "print(X.shape)"
      ],
      "execution_count": 251,
      "outputs": [
        {
          "output_type": "stream",
          "text": [
            "(100, 2)\n"
          ],
          "name": "stdout"
        }
      ]
    },
    {
      "cell_type": "markdown",
      "metadata": {
        "id": "nborzfyZsfm0"
      },
      "source": [
        "Finalement, création d'un vecteur parametre $\\theta$, initialisé avec des coefficients aléatoires. Ce vecteur est de dimension (2, 1). Si on désire toujours reproduire le meme vecteur $\\theta$, on utilise comme avant np.random.seed(0)."
      ]
    },
    {
      "cell_type": "code",
      "metadata": {
        "id": "D1IjANxms0iW",
        "outputId": "abb1a364-92bc-471e-cab4-e4f08f135e8a",
        "colab": {
          "base_uri": "https://localhost:8080/",
          "height": 51
        }
      },
      "source": [
        "np.random.seed(0)\n",
        "teta =np.random.randn(2,1)\n",
        "teta"
      ],
      "execution_count": 252,
      "outputs": [
        {
          "output_type": "execute_result",
          "data": {
            "text/plain": [
              "array([[1.76405235],\n",
              "       [0.40015721]])"
            ]
          },
          "metadata": {
            "tags": []
          },
          "execution_count": 252
        }
      ]
    },
    {
      "cell_type": "markdown",
      "metadata": {
        "id": "Bow7ZQnktiei"
      },
      "source": [
        "##**2. Modele Linéaire**"
      ]
    },
    {
      "cell_type": "code",
      "metadata": {
        "id": "Xs7_xxUQuFTa"
      },
      "source": [
        "def model(data,teta):\n",
        "  return data.dot(teta)"
      ],
      "execution_count": 253,
      "outputs": []
    },
    {
      "cell_type": "code",
      "metadata": {
        "id": "sjEii-2hu77M",
        "outputId": "9023858f-37b3-417c-9cbd-125584913b5a",
        "colab": {
          "base_uri": "https://localhost:8080/",
          "height": 282
        }
      },
      "source": [
        "plt.scatter(x,y)\n",
        "plt.plot(x,model(X,teta), c='r')"
      ],
      "execution_count": 254,
      "outputs": [
        {
          "output_type": "execute_result",
          "data": {
            "text/plain": [
              "[<matplotlib.lines.Line2D at 0x7f50c50c4eb8>]"
            ]
          },
          "metadata": {
            "tags": []
          },
          "execution_count": 254
        },
        {
          "output_type": "display_data",
          "data": {
            "image/png": "[encoded data removed]",
            "text/plain": [
              "<Figure size 432x288 with 1 Axes>"
            ]
          },
          "metadata": {
            "tags": [],
            "needs_background": "light"
          }
        }
      ]
    },
    {
      "cell_type": "markdown",
      "metadata": {
        "id": "QAZhKjQMxHIL"
      },
      "source": [
        "## **3. Fonction Cout : Erreur Quadratique moyenne**"
      ]
    },
    {
      "cell_type": "markdown",
      "metadata": {
        "id": "6EWEP5XmxdLY"
      },
      "source": [
        "On mesure les erreurs du modele sur le Dataset X, y en implémenter l'erreur quadratique moyenne, Mean Squared Error (MSE) .\n",
        "\n",
        "$ J(\\theta) = \\frac{1}{2m} \\sum (X.\\theta - y)^2 $\n",
        "\n",
        "Ensuite, on teste notre fonction, pour voir s'il n'y a pas de bug"
      ]
    },
    {
      "cell_type": "code",
      "metadata": {
        "id": "NYRlULYZxw-i"
      },
      "source": [
        "def Fonction_Cout(x,teta,y):\n",
        "  m=len(y)\n",
        "  return (1/2*m)*np.sum(((model(x,teta))-y)**2)"
      ],
      "execution_count": 255,
      "outputs": []
    },
    {
      "cell_type": "code",
      "metadata": {
        "id": "eJrfnzLu2LuP",
        "outputId": "de31dcdd-e272-4453-9a8c-ea0267d333b3",
        "colab": {
          "base_uri": "https://localhost:8080/",
          "height": 34
        }
      },
      "source": [
        "Fonction_Cout(X,teta,y)"
      ],
      "execution_count": 256,
      "outputs": [
        {
          "output_type": "execute_result",
          "data": {
            "text/plain": [
              "9056306.841935502"
            ]
          },
          "metadata": {
            "tags": []
          },
          "execution_count": 256
        }
      ]
    },
    {
      "cell_type": "markdown",
      "metadata": {
        "id": "6tRYKdq92SBC"
      },
      "source": [
        "## **4. Gradients et Descente de Gradient**"
      ]
    },
    {
      "cell_type": "markdown",
      "metadata": {
        "id": "tcHPCMYY2Zgr"
      },
      "source": [
        "On implémente la formule du gradient pour la MSE\n",
        "\n",
        "$\\frac{\\partial J(\\theta) }{\\partial \\theta} = \\frac{1}{m} X^T.(X.\\theta - y)$\n",
        "\n",
        "Ensuite on utilise cette fonction dans la descente de gradient:\n",
        "\n",
        "$\\theta = \\theta - \\alpha \\frac{\\partial J(\\theta) }{\\partial \\theta}$"
      ]
    },
    {
      "cell_type": "code",
      "metadata": {
        "id": "Ukn8WyCm2oFt"
      },
      "source": [
        "def Gradients(x,teta,y):\n",
        "  m=len(y)\n",
        "  return (1/m)*(x.T).dot((model(x,teta))-y)"
      ],
      "execution_count": 258,
      "outputs": []
    },
    {
      "cell_type": "code",
      "metadata": {
        "id": "dRjI8QfH3D3q"
      },
      "source": [
        "def Descente_Gradient(x,teta,y,rate,nb_iteration):\n",
        "  cost_history=np.zeros(nb_iteration)  # création d'un tableau de stockage pour enregistrer l'évolution du Cout du modele\n",
        "  for i in range(0,nb_iteration):\n",
        "    teta=teta-rate*Gradients(x,teta,y) # mise a jour du parametre theta (formule du gradient descent)\n",
        "    cost_history[i]=Fonction_Cout(x,teta,y) # on enregistre la valeur du Cout au tour i dans cost_history[i]\n",
        "  return teta,cost_history"
      ],
      "execution_count": 259,
      "outputs": []
    },
    {
      "cell_type": "markdown",
      "metadata": {
        "id": "_3V5X5txAP0j"
      },
      "source": [
        "## **5. Phase d'entrainement**\n",
        "\n",
        "\n",
        "\n",
        "\n",
        "\n"
      ]
    },
    {
      "cell_type": "markdown",
      "metadata": {
        "id": "0jweUozdA9Yy"
      },
      "source": [
        "On définit un nombre d'itérations, ainsi qu'un pas d'apprentissage $\\alpha$.\n",
        "\n",
        "Une fois le modele entrainé, on observe les resultats par rapport a notre Dataset"
      ]
    },
    {
      "cell_type": "code",
      "metadata": {
        "id": "TNUhFDwE5dgz",
        "outputId": "4bc659b0-1a09-4869-8d20-88264b68e49c",
        "colab": {
          "base_uri": "https://localhost:8080/",
          "height": 282
        }
      },
      "source": [
        "nb_iteration=1000\n",
        "learning_rate=0.01\n",
        "teta_final,cost_history=Descente_Gradient(X,teta,y,learning_rate,nb_iteration)\n",
        "predection=model(X,teta_final)\n",
        "plt.scatter(x,y)\n",
        "plt.plot(x,predection,c='r')"
      ],
      "execution_count": 260,
      "outputs": [
        {
          "output_type": "execute_result",
          "data": {
            "text/plain": [
              "[<matplotlib.lines.Line2D at 0x7f50c5088240>]"
            ]
          },
          "metadata": {
            "tags": []
          },
          "execution_count": 260
        },
        {
          "output_type": "display_data",
          "data": {
            "image/png": "[encoded data removed]",
            "text/plain": [
              "<Figure size 432x288 with 1 Axes>"
            ]
          },
          "metadata": {
            "tags": [],
            "needs_background": "light"
          }
        }
      ]
    },
    {
      "cell_type": "markdown",
      "metadata": {
        "id": "JjhW5l_8BIrW"
      },
      "source": [
        "## **6. Courbes d'apprentissage**"
      ]
    },
    {
      "cell_type": "markdown",
      "metadata": {
        "id": "w6S8hi_0CIB5"
      },
      "source": [
        "Pour vérifier si notre algorithme de Descente de gradient a bien fonctionné, on observe l'évolution de la fonction coût à travers le nombre d'itérations. On cherche à obtenir une courbe qui diminue a chaque itération jusqu'à stagner à un niveau minimal (proche de zéro). Si la courbe ne suit pas ce motif, alors le pas **learning_rate** $\\alpha$, est peut-être trop élevé, il faut prendre un pas plus petite.\n"
      ]
    },
    {
      "cell_type": "code",
      "metadata": {
        "id": "xHRxVx6bCLtD",
        "outputId": "845b30ee-5de1-4459-c52d-0d327246024b",
        "colab": {
          "base_uri": "https://localhost:8080/",
          "height": 293
        }
      },
      "source": [
        "plt.plot(range(nb_iteration),cost_history)"
      ],
      "execution_count": 261,
      "outputs": [
        {
          "output_type": "execute_result",
          "data": {
            "text/plain": [
              "[<matplotlib.lines.Line2D at 0x7f50c4f9c0f0>]"
            ]
          },
          "metadata": {
            "tags": []
          },
          "execution_count": 261
        },
        {
          "output_type": "display_data",
          "data": {
            "image/png": "[encoded data removed]",
            "text/plain": [
              "<Figure size 432x288 with 1 Axes>"
            ]
          },
          "metadata": {
            "tags": [],
            "needs_background": "light"
          }
        }
      ]
    },
    {
      "cell_type": "markdown",
      "metadata": {
        "id": "QVZXSChcEPaF"
      },
      "source": [
        "## **7. Evaluation finale**"
      ]
    },
    {
      "cell_type": "markdown",
      "metadata": {
        "id": "SRzUgufqETzh"
      },
      "source": [
        "Pour évaluer la réelle performance de notre modele on peut utiliser le **coefficient de détermination**, aussi connu sous le nom $R^2$. Il nous vient de la méthode des moindres carrés. Plus le résultat est proche de 1,  plus que votre model est le meilleur ."
      ]
    },
    {
      "cell_type": "code",
      "metadata": {
        "id": "1KVC3tWmFQZ_"
      },
      "source": [
        "def cof_determination(y,pred):\n",
        "  a=((y-pred)**2).sum()\n",
        "  b=((y-y.mean())**2).sum()\n",
        "  return 1-a/b"
      ],
      "execution_count": 262,
      "outputs": []
    },
    {
      "cell_type": "code",
      "metadata": {
        "id": "s-JyrHw_F9km",
        "outputId": "91309415-5f9b-4474-97ba-908d5e59626a",
        "colab": {
          "base_uri": "https://localhost:8080/",
          "height": 34
        }
      },
      "source": [
        "cof_determination(y,predection)"
      ],
      "execution_count": 272,
      "outputs": [
        {
          "output_type": "execute_result",
          "data": {
            "text/plain": [
              "0.9417294706504984"
            ]
          },
          "metadata": {
            "tags": []
          },
          "execution_count": 272
        }
      ]
    },
    {
      "cell_type": "markdown",
      "metadata": {
        "id": "IoXAy-WSlExz"
      },
      "source": [
        "# **2. PREMIER MODEL MACHINE LEARNING UTILISANT SGDRegressor**"
      ]
    },
    {
      "cell_type": "code",
      "metadata": {
        "id": "6iBgbse9U-TG"
      },
      "source": [
        "from sklearn.linear_model import SGDRegressor"
      ],
      "execution_count": 267,
      "outputs": []
    },
    {
      "cell_type": "code",
      "metadata": {
        "id": "69aXEc4fXuFp",
        "outputId": "6e3342eb-ec35-4832-d2cf-5832f607d4c2",
        "colab": {
          "base_uri": "https://localhost:8080/",
          "height": 282
        }
      },
      "source": [
        "np.random.seed(0)\n",
        "x_,y_=make_regression(n_samples=100, n_features=1, noise=10)\n",
        "plt.scatter(x_,y_)"
      ],
      "execution_count": 268,
      "outputs": [
        {
          "output_type": "execute_result",
          "data": {
            "text/plain": [
              "<matplotlib.collections.PathCollection at 0x7f50c4f69c50>"
            ]
          },
          "metadata": {
            "tags": []
          },
          "execution_count": 268
        },
        {
          "output_type": "display_data",
          "data": {
            "image/png": "[encoded data removed]",
            "text/plain": [
              "<Figure size 432x288 with 1 Axes>"
            ]
          },
          "metadata": {
            "tags": [],
            "needs_background": "light"
          }
        }
      ]
    },
    {
      "cell_type": "code",
      "metadata": {
        "id": "TJCVmWPQYqAa",
        "outputId": "39abc467-20db-4527-a37d-27e9ad486bfd",
        "colab": {
          "base_uri": "https://localhost:8080/",
          "height": 173
        }
      },
      "source": [
        "model_=SGDRegressor(max_iter=10000000,eta0=0.001)\n",
        "model_.fit(x,y)"
      ],
      "execution_count": 269,
      "outputs": [
        {
          "output_type": "stream",
          "text": [
            "/usr/local/lib/python3.6/dist-packages/sklearn/utils/validation.py:760: DataConversionWarning: A column-vector y was passed when a 1d array was expected. Please change the shape of y to (n_samples, ), for example using ravel().\n",
            "  y = column_or_1d(y, warn=True)\n"
          ],
          "name": "stderr"
        },
        {
          "output_type": "execute_result",
          "data": {
            "text/plain": [
              "SGDRegressor(alpha=0.0001, average=False, early_stopping=False, epsilon=0.1,\n",
              "             eta0=0.001, fit_intercept=True, l1_ratio=0.15,\n",
              "             learning_rate='invscaling', loss='squared_loss', max_iter=10000000,\n",
              "             n_iter_no_change=5, penalty='l2', power_t=0.25, random_state=None,\n",
              "             shuffle=True, tol=0.001, validation_fraction=0.1, verbose=0,\n",
              "             warm_start=False)"
            ]
          },
          "metadata": {
            "tags": []
          },
          "execution_count": 269
        }
      ]
    },
    {
      "cell_type": "code",
      "metadata": {
        "id": "3AsKjubaaO_F",
        "outputId": "ca910f6d-e365-4df9-e26e-2ee92334450e",
        "colab": {
          "base_uri": "https://localhost:8080/",
          "height": 299
        }
      },
      "source": [
        "print('Coff de determination R=',model_.score(x_,y_))\n",
        "plt.scatter(x_,y_)\n",
        "plt.plot(x_,model_.predict(x_), c='red', lw=3)"
      ],
      "execution_count": 271,
      "outputs": [
        {
          "output_type": "stream",
          "text": [
            "Coff de determination R= 0.9416567569675361\n"
          ],
          "name": "stdout"
        },
        {
          "output_type": "execute_result",
          "data": {
            "text/plain": [
              "[<matplotlib.lines.Line2D at 0x7f50c4ea7588>]"
            ]
          },
          "metadata": {
            "tags": []
          },
          "execution_count": 271
        },
        {
          "output_type": "display_data",
          "data": {
            "image/png": "[encoded data removed]",
            "text/plain": [
              "<Figure size 432x288 with 1 Axes>"
            ]
          },
          "metadata": {
            "tags": [],
            "needs_background": "light"
          }
        }
      ]
    },
    {
      "cell_type": "code",
      "metadata": {
        "id": "tXbVlvTVlm3O"
      },
      "source": [
        ""
      ],
      "execution_count": 240,
      "outputs": []
    }
  ]
}